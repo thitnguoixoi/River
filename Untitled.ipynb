{
 "cells": [
  {
   "cell_type": "code",
   "execution_count": 28,
   "metadata": {},
   "outputs": [
    {
     "name": "stdout",
     "output_type": "stream",
     "text": [
      "[(cc..bound: 2, priority: 30) ; (aa..bound: 0, priority: 10) ; (bb..bound: 1, priority: 20)]\n"
     ]
    }
   ],
   "source": [
    "class Input:\n",
    "    def __init__(self, buffer, bound, priority):\n",
    "        self.buffer = buffer\n",
    "        self.bound = bound\n",
    "        self.priority = priority\n",
    "        \n",
    "    def __lt__(self, other):\n",
    "        return self.priority > other.priority\n",
    "    \n",
    "    def __str__(self):\n",
    "        str = (f\"({self.buffer[0:max(len(self.buffer),10)]}..bound: {self.bound}, priority: {self.priority})\")\n",
    "        return str\n",
    "    \n",
    "    \n",
    "class InputsWorklist:\n",
    "    import heapq\n",
    "    def __init__(self):\n",
    "        self.internalHeap = []\n",
    "        \n",
    "    def extractInput(self):\n",
    "        if self.internalHeap:\n",
    "            next_item = heapq.heappop(self.internalHeap)\n",
    "            return next_item\n",
    "        else:\n",
    "            return None\n",
    "    def addInput(self, inp : Input):\n",
    "        heapq.heappush(self.internalHeap, inp)\n",
    "        \n",
    "    def __str__(self):\n",
    "        str = f\"[{' ; '.join(inpStr.__str__() for inpStr in self.internalHeap)}]\"\n",
    "        return str\n",
    "        \n",
    "worklist = InputsWorklist()\n",
    "worklist.addInput(Input(\"aa\", 0, 10))\n",
    "worklist.addInput(Input(\"bb\", 1, 20))\n",
    "worklist.addInput(Input('cc', 2, 30))\n",
    "\n",
    "# TODO text extract\n",
    "\n",
    "print(worklist)"
   ]
  },
  {
   "cell_type": "code",
   "execution_count": null,
   "metadata": {},
   "outputs": [],
   "source": []
  }
 ],
 "metadata": {
  "kernelspec": {
   "display_name": "Python 3",
   "language": "python",
   "name": "python3"
  },
  "language_info": {
   "codemirror_mode": {
    "name": "ipython",
    "version": 3
   },
   "file_extension": ".py",
   "mimetype": "text/x-python",
   "name": "python",
   "nbconvert_exporter": "python",
   "pygments_lexer": "ipython3",
   "version": "3.8.2"
  }
 },
 "nbformat": 4,
 "nbformat_minor": 4
}
